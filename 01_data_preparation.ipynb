{
 "cells": [
  {
   "cell_type": "code",
   "execution_count": 14,
   "metadata": {},
   "outputs": [],
   "source": [
    "import os\n",
    "import shutil\n",
    "from pathlib import Path\n",
    "import subprocess\n",
    "import zipfile"
   ]
  },
  {
   "cell_type": "code",
   "execution_count": null,
   "metadata": {},
   "outputs": [
    {
     "name": "stdout",
     "output_type": "stream",
     "text": [
      "✅ Đã giải nén tại chỗ: \n"
     ]
    }
   ],
   "source": [
    "def extract_zip_here(zip_path):\n",
    "    # Kiểm tra tệp tồn tại\n",
    "    if not os.path.exists(zip_path):\n",
    "        print(f\"❌ File không tồn tại: {zip_path}\")\n",
    "        return\n",
    "    \n",
    "    extract_to = os.path.dirname(zip_path)\n",
    "    \n",
    "    with zipfile.ZipFile(zip_path, 'r') as zip_ref:\n",
    "        zip_ref.extractall(extract_to)\n",
    "        print(f\"Hoàn tất: {extract_to}\")\n",
    "\n",
    "extract_zip_here(\"public test.zip\")\n",
    "extract_zip_here(\"train_20241023.zip\")"
   ]
  },
  {
   "cell_type": "code",
   "execution_count": 4,
   "metadata": {},
   "outputs": [],
   "source": [
    "def prepare_data(source_dirs, dest_dir):\n",
    "\n",
    "    dest_images_dir = Path(dest_dir) / \"images\"\n",
    "    dest_labels_dir = Path(dest_dir) / \"labels\"\n",
    "\n",
    "    dest_images_dir.mkdir(parents=True, exist_ok=True)\n",
    "    dest_labels_dir.mkdir(parents=True, exist_ok=True)\n",
    "\n",
    "    for source_dir in source_dirs:\n",
    "        source_dir = Path(source_dir)\n",
    "\n",
    "        for item in source_dir.glob(\"*\"):\n",
    "            if item.suffix.lower() in (\".jpg\", \".jpeg\", \".png\"):\n",
    "                if item.name.startswith(\"cam_10_00500\"):\n",
    "                    continue\n",
    "\n",
    "                destination = dest_images_dir / item.name\n",
    "                shutil.copy2(item, destination)\n",
    "\n",
    "                # Tìm file nhãn tương ứng\n",
    "                label_name = item.stem + \".txt\"\n",
    "                label_path = source_dir / label_name\n",
    "                if label_path.exists():\n",
    "                    destination = dest_labels_dir / label_name\n",
    "                    shutil.copy2(label_path, destination)\n",
    "            elif item.is_dir():\n",
    "                prepare_data([item], dest_dir)"
   ]
  },
  {
   "cell_type": "code",
   "execution_count": null,
   "metadata": {},
   "outputs": [],
   "source": [
    "source_dirs = [\n",
    "    \"train_20241023/daytime\",\n",
    "    \"train_20241023/nighttime\",\n",
    "]\n",
    "dest_dir = \"data/train\"\n",
    "directory = Path(dest_dir) / \"images\"\n",
    "a = \"cam_10_00500\"\n",
    "prepare_data(source_dirs, dest_dir)\n"
   ]
  },
  {
   "cell_type": "code",
   "execution_count": 12,
   "metadata": {},
   "outputs": [],
   "source": [
    "label_mapping = {\n",
    "    '4': '0',\n",
    "    '5': '1',\n",
    "    '6': '2',\n",
    "    '7': '3'\n",
    "}\n",
    "\n",
    "def relabel_file(file_path, mapping):\n",
    "    with open(file_path, 'r') as file:\n",
    "        lines = file.readlines()\n",
    "\n",
    "    updated_lines = []\n",
    "    for line in lines:\n",
    "        parts = line.split()\n",
    "        original_class_id = parts[0]\n",
    "        if original_class_id in mapping:\n",
    "            parts[0] = mapping[original_class_id]\n",
    "\n",
    "        updated_lines.append(\" \".join(parts) + \"\\n\")\n",
    "\n",
    "    with open(file_path, 'w') as file:\n",
    "        file.writelines(updated_lines)\n"
   ]
  },
  {
   "cell_type": "code",
   "execution_count": 13,
   "metadata": {},
   "outputs": [],
   "source": [
    "folder_path = r\"data/train/labels\" #Labels data\n",
    "\n",
    "for filename in os.listdir(folder_path):\n",
    "    file_path = os.path.join(folder_path, filename)\n",
    "    if os.path.isfile(file_path) and filename.endswith('.txt'):\n",
    "        relabel_file(file_path, label_mapping)\n"
   ]
  }
 ],
 "metadata": {
  "kernelspec": {
   "display_name": "env_ds",
   "language": "python",
   "name": "python3"
  },
  "language_info": {
   "codemirror_mode": {
    "name": "ipython",
    "version": 3
   },
   "file_extension": ".py",
   "mimetype": "text/x-python",
   "name": "python",
   "nbconvert_exporter": "python",
   "pygments_lexer": "ipython3",
   "version": "3.12.7"
  }
 },
 "nbformat": 4,
 "nbformat_minor": 2
}
