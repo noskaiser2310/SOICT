{
 "cells": [
  {
   "cell_type": "code",
   "execution_count": null,
   "metadata": {
    "execution": {
     "iopub.execute_input": "2024-11-22T08:39:57.505737Z",
     "iopub.status.busy": "2024-11-22T08:39:57.505317Z",
     "iopub.status.idle": "2024-11-22T08:40:01.829560Z",
     "shell.execute_reply": "2024-11-22T08:40:01.828133Z",
     "shell.execute_reply.started": "2024-11-22T08:39:57.505698Z"
    },
    "trusted": true
   },
   "outputs": [],
   "source": [
    "from ultralytics import YOLO\n",
    "import os\n",
    "os.environ['WANDB_DISABLED'] = 'true'"
   ]
  },
  {
   "cell_type": "code",
   "execution_count": null,
   "metadata": {
    "trusted": true
   },
   "outputs": [],
   "source": [
    "def train_yolo_model(model, data_yaml, epochs, imgsz, batch, save_period, name):\n",
    "    results = model.train(\n",
    "        data=data_yaml,\n",
    "        epochs=epochs,\n",
    "        imgsz=imgsz,\n",
    "        batch=batch,\n",
    "        save_period=save_period,\n",
    "        name=name,\n",
    "        verbose=False,\n",
    "        exist_ok=True\n",
    "    )\n",
    "    return results"
   ]
  },
  {
   "cell_type": "code",
   "execution_count": null,
   "metadata": {
    "trusted": true
   },
   "outputs": [],
   "source": []
  },
  {
   "cell_type": "code",
   "execution_count": null,
   "metadata": {
    "execution": {
     "iopub.execute_input": "2024-11-22T08:40:24.001531Z",
     "iopub.status.busy": "2024-11-22T08:40:24.001089Z",
     "iopub.status.idle": "2024-11-22T08:40:25.377062Z",
     "shell.execute_reply": "2024-11-22T08:40:25.375843Z",
     "shell.execute_reply.started": "2024-11-22T08:40:24.001482Z"
    },
    "trusted": true
   },
   "outputs": [],
   "source": [
    "model_a = YOLO(\"yolo11s.pt\")\n",
    "data_yaml_path = \"soict.yaml\"\n",
    "# model_b = YOLO(\"yolov8s.pt\")\n",
    "# model_c = YOLO(\"yolov5s.pt\")"
   ]
  },
  {
   "cell_type": "code",
   "execution_count": null,
   "metadata": {
    "trusted": true
   },
   "outputs": [],
   "source": [
    "model_a = train_yolo_model(model_a, data_yaml_path, epochs = 20, imgsz = 640, batch=32, save_period = 1, name='trainning')\n",
    "# model_b = train_yolo_model(model_b, data_yaml_path, epochs = 20, imgsz = 640, batch=32, save_period = 1, project='/kaggle/working', name='trainning_b')\n",
    "# model_c = train_yolo_model(model_c, data_yaml_path, epochs = 20, imgsz = 640, batch=32, save_period = 1, project='/kaggle/working', name='trainning_c')\n"
   ]
  },
  {
   "cell_type": "code",
   "execution_count": null,
   "metadata": {
    "trusted": true
   },
   "outputs": [],
   "source": [
    "model_a = r'trainning\\weights\\best.pt'\n",
    "# model_b = '/kaggle/working/trainning_b/weights/best.pt'\n",
    "# model_c = '/kaggle/working/trainning_b/weights/best.pt'\n",
    "models = [model_a]\n"
   ]
  },
  {
   "cell_type": "code",
   "execution_count": null,
   "metadata": {},
   "outputs": [],
   "source": [
    "old_name = r\"public test\"\n",
    "test_images_path = r\"test\"\n",
    "\n",
    "try:\n",
    "    os.rename(old_name, test_images_path)\n",
    "    print(f\"Successfully renamed '{old_name}' to '{test_images_path}'\")\n",
    "except OSError as e:\n",
    "    print(f\"Error renaming directory: {e}\")"
   ]
  },
  {
   "cell_type": "code",
   "execution_count": null,
   "metadata": {
    "trusted": true
   },
   "outputs": [],
   "source": [
    "# Thư mục để lưu file kết quả\n",
    "output_folder = r'predictions'\n",
    "os.makedirs(output_folder, exist_ok=True)\n",
    "\n",
    "for i, model_name in enumerate(models):\n",
    "    model = YOLO(model_name)\n",
    "    predictions = []\n",
    "    model_output_folder = os.path.join(output_folder, model_name)  \n",
    "    os.makedirs(model_output_folder, exist_ok=True)\n",
    "\n",
    "    results = model.predict(source=test_images_path, save_dir=model_output_folder) \n",
    "\n",
    "    output_file = os.path.join(model_output_folder, f'predict.txt') \n",
    "    with open(output_file, 'w') as f:\n",
    "        for result in results:\n",
    "            for *xyxy, conf, cls in result.boxes.data.tolist():\n",
    "                x1, y1, x2, y2 = map(int, xyxy)\n",
    "                confidence = float(conf)\n",
    "                class_id = int(cls)\n",
    "\n",
    "                width = result.orig_shape[1]\n",
    "                height = result.orig_shape[0]\n",
    "\n",
    "                x_center = (x1 + x2) / 2 / width\n",
    "                y_center = (y1 + y2) / 2 / height\n",
    "                width_normalized = (x2 - x1) / width\n",
    "                height_normalized = (y2 - y1) / height\n",
    "\n",
    "                f.write(f\"{os.path.basename(result.path)} {class_id} {x_center:.6f} {y_center:.6f} {width_normalized:.6f} {height_normalized:.6f} {confidence:.6f}\\n\")\n",
    "\n",
    "    print(f\"Dự đoán của model {model_name} đã được lưu tại: {output_file}\")"
   ]
  }
 ],
 "metadata": {
  "kaggle": {
   "accelerator": "nvidiaTeslaT4",
   "dataSources": [
    {
     "datasetId": 6127163,
     "sourceId": 9971737,
     "sourceType": "datasetVersion"
    }
   ],
   "dockerImageVersionId": 30787,
   "isGpuEnabled": true,
   "isInternetEnabled": true,
   "language": "python",
   "sourceType": "notebook"
  },
  "kernelspec": {
   "display_name": "env_ds",
   "language": "python",
   "name": "python3"
  },
  "language_info": {
   "codemirror_mode": {
    "name": "ipython",
    "version": 3
   },
   "file_extension": ".py",
   "mimetype": "text/x-python",
   "name": "python",
   "nbconvert_exporter": "python",
   "pygments_lexer": "ipython3",
   "version": "3.12.7"
  }
 },
 "nbformat": 4,
 "nbformat_minor": 4
}
