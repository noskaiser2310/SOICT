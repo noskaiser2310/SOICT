{
 "cells": [
  {
   "cell_type": "code",
   "execution_count": null,
   "metadata": {
    "colab": {
     "base_uri": "https://localhost:8080/"
    },
    "executionInfo": {
     "elapsed": 3536,
     "status": "ok",
     "timestamp": 1732030194093,
     "user": {
      "displayName": "Sơn Nguyễn Văn (K19 HL)",
      "userId": "12089183898232347781"
     },
     "user_tz": -420
    },
    "id": "vIoxYEE2qTwb",
    "outputId": "603edbf8-b1e3-4b0b-8dc1-9ea93b60dd3a"
   },
   "outputs": [],
   "source": [
    "import random\n",
    "import os\n",
    "import numpy as np\n",
    "import cv2\n",
    "import matplotlib.pyplot as plt\n",
    "import albumentations as A\n",
    "from typing import List, Dict, Any"
   ]
  },
  {
   "cell_type": "markdown",
   "metadata": {
    "id": "K2XoODJbpGF7"
   },
   "source": [
    "### Hàm cho task"
   ]
  },
  {
   "cell_type": "code",
   "execution_count": null,
   "metadata": {
    "executionInfo": {
     "elapsed": 569,
     "status": "ok",
     "timestamp": 1732030197626,
     "user": {
      "displayName": "Sơn Nguyễn Văn (K19 HL)",
      "userId": "12089183898232347781"
     },
     "user_tz": -420
    },
    "id": "DoVRXcw8bR-d"
   },
   "outputs": [],
   "source": [
    "class Visualize:\n",
    "    @staticmethod\n",
    "    def visualize(images: List):\n",
    "        num_images = len(images)\n",
    "        plt.figure(figsize=(15, 15))\n",
    "\n",
    "        for i, image in enumerate(images):\n",
    "            plt.subplot(1, num_images, i + 1)\n",
    "            plt.axis('off')\n",
    "            plt.imshow(image)\n",
    "\n",
    "        plt.show()"
   ]
  },
  {
   "cell_type": "code",
   "execution_count": null,
   "metadata": {
    "executionInfo": {
     "elapsed": 613,
     "status": "ok",
     "timestamp": 1732030199555,
     "user": {
      "displayName": "Sơn Nguyễn Văn (K19 HL)",
      "userId": "12089183898232347781"
     },
     "user_tz": -420
    },
    "id": "Q4PLhBWko-kx"
   },
   "outputs": [],
   "source": [
    "class TransformImage:\n",
    "    def __init__(self, image_path: str, label_directory: str):\n",
    "        self.image_path = image_path\n",
    "        self.directory = os.path.dirname(image_path)\n",
    "        self.label_directory = label_directory  # Đường dẫn tới thư mục chứa label\n",
    "\n",
    "    def transform(self, names: List[str], params=None, random_seed=43):\n",
    "        transformed_images = []\n",
    "        image = cv2.imread(self.image_path)\n",
    "        if image is None:\n",
    "            raise ValueError(f\"Image at {self.image_path} could not be read.\")\n",
    "        image = cv2.cvtColor(image, cv2.COLOR_BGR2RGB)\n",
    "\n",
    "        for name in names:\n",
    "            transform_class = getattr(A, name)\n",
    "            random.seed(random_seed)\n",
    "            transform_func = transform_class(**params)\n",
    "            augmented = transform_func(image=image)\n",
    "            augmented_image = augmented['image']\n",
    "\n",
    "            # Lưu ảnh đã biến đổi và file label\n",
    "            self.save_transformed_image(augmented_image, name)\n",
    "            transformed_images.append(augmented_image)\n",
    "\n",
    "        return transformed_images\n",
    "\n",
    "    def save_transformed_image(self, transformed_image, transform_name: str):\n",
    "        base_name = os.path.splitext(os.path.basename(self.image_path))[0]\n",
    "        new_image_name = f\"{base_name}_{transform_name}.jpg\"\n",
    "        new_image_path = os.path.join(self.directory, new_image_name)\n",
    "\n",
    "        # Lưu ảnh đã biến đổi\n",
    "        cv2.imwrite(new_image_path, cv2.cvtColor(transformed_image, cv2.COLOR_RGB2BGR))\n",
    "        print(f\"Saved transformed image as '{new_image_path}'\")\n",
    "        self.create_label_file(base_name, transform_name)\n",
    "\n",
    "    def create_label_file(self, base_name: str, transform_name: str):\n",
    "            new_label_name = f\"{base_name}_{transform_name}.txt\"\n",
    "            new_label_path = os.path.join(self.label_directory, new_label_name)\n",
    "\n",
    "            original_label_name = f\"{base_name}.txt\"\n",
    "            original_label_path = os.path.join(self.label_directory, original_label_name)\n",
    "\n",
    "            if os.path.exists(original_label_path):\n",
    "                with open(original_label_path, 'r') as original_label_file:\n",
    "                    content = original_label_file.read()  # Đọc nội dung từ file gốc\n",
    "            else:\n",
    "                content = f\"Label for transformed image {new_label_name}\"\n",
    "\n",
    "            with open(new_label_path, 'w') as label_file:\n",
    "                label_file.write(content)\n",
    "\n",
    "            print(f\"Created label file as '{new_label_path}'\")"
   ]
  },
  {
   "cell_type": "code",
   "execution_count": null,
   "metadata": {
    "executionInfo": {
     "elapsed": 358,
     "status": "ok",
     "timestamp": 1732030202347,
     "user": {
      "displayName": "Sơn Nguyễn Văn (K19 HL)",
      "userId": "12089183898232347781"
     },
     "user_tz": -420
    },
    "id": "rGP4-XjG4Jl5"
   },
   "outputs": [],
   "source": [
    "class FileProcessor:\n",
    "    def __init__(self, image_directory: str, label_directory: str):\n",
    "        self.image_directory = image_directory\n",
    "        self.label_directory = label_directory\n",
    "\n",
    "    def process_images(self, transform_names: List[str], params: Dict[str, Any], random_seed: int = 43):\n",
    "        for filename in os.listdir(self.image_directory):\n",
    "            if filename.endswith('.jpg'):\n",
    "                image_path = os.path.join(self.image_directory, filename)\n",
    "                model = TransformImage(image_path, self.label_directory)\n",
    "                transformed_images = model.transform(transform_names, params=params, random_seed=random_seed)  # Biến đổi ảnh\n",
    "\n"
   ]
  },
  {
   "cell_type": "code",
   "execution_count": null,
   "metadata": {
    "colab": {
     "base_uri": "https://localhost:8080/",
     "height": 1000
    },
    "collapsed": true,
    "executionInfo": {
     "elapsed": 23740,
     "status": "error",
     "timestamp": 1730029114478,
     "user": {
      "displayName": "Sơn Nguyễn Văn (K19 HL)",
      "userId": "12089183898232347781"
     },
     "user_tz": -420
    },
    "id": "Zgt0f9tXvQ0f",
    "outputId": "e4e09ecc-e908-4030-f1f6-38d3b94915a5"
   },
   "outputs": [],
   "source": [
    "\n",
    "# Ví dụ sử dụng\n",
    "image_directory = r'data/train/images'\n",
    "label_directory = r'data/train/labels'\n",
    "processor = FileProcessor(image_directory, label_directory)\n",
    "\n",
    "params = {'p' : 0.7}\n",
    "\n",
    "transform_name = ['GaussianBlur','RandomBrightnessContrast']\n",
    "\n",
    "processor.process_images(transform_name, params)"
   ]
  },
  {
   "cell_type": "code",
   "execution_count": null,
   "metadata": {},
   "outputs": [],
   "source": [
    "import os\n",
    "from PIL import Image\n",
    "\n",
    "input_folder = image_directory\n",
    "\n",
    "def convert_png_to_jpg(png_filename):\n",
    "    png_path = os.path.join(input_folder, png_filename)\n",
    "    jpg_filename = png_filename.replace(\".png\", \".jpg\")\n",
    "    jpg_path = os.path.join(input_folder, jpg_filename)\n",
    "\n",
    "    png_image = Image.open(png_path)\n",
    "    jpg_image = png_image.convert(\"RGB\")\n",
    "    jpg_image.save(jpg_path, \"JPEG\")\n",
    "    print(f\"Đã chuyển đổi: {png_filename} -> {jpg_filename}\")\n",
    "    os.remove(png_path)\n",
    "    print(f\"Đã xóa tệp PNG cũ: {png_filename}\")\n",
    "\n",
    "png_files = [f for f in os.listdir(input_folder) if f.endswith(\".png\")]\n",
    "\n",
    "\n"
   ]
  }
 ],
 "metadata": {
  "colab": {
   "collapsed_sections": [
    "Hq98abMefrwn"
   ],
   "provenance": [
    {
     "file_id": "1H9aoOgMcLjbgYarYRbd4TSVpzndeLdTB",
     "timestamp": 1729862290790
    }
   ]
  },
  "kernelspec": {
   "display_name": "env_ds",
   "language": "python",
   "name": "python3"
  },
  "language_info": {
   "codemirror_mode": {
    "name": "ipython",
    "version": 3
   },
   "file_extension": ".py",
   "mimetype": "text/x-python",
   "name": "python",
   "nbconvert_exporter": "python",
   "pygments_lexer": "ipython3",
   "version": "3.12.7"
  }
 },
 "nbformat": 4,
 "nbformat_minor": 0
}
